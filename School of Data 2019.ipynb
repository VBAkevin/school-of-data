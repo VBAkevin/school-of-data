{
 "cells": [
  {
   "cell_type": "markdown",
   "metadata": {},
   "source": [
    "# Hello\n",
    "\n",
    "Intro steps:\n",
    "\n",
    "- install stuff\n",
    "- other"
   ]
  },
  {
   "cell_type": "code",
   "execution_count": 11,
   "metadata": {},
   "outputs": [
    {
     "name": "stdout",
     "output_type": "stream",
     "text": [
      "Get data from https://api.knack.com/v1/pages/scene_514/views/view_2569/records?rows_per_page=1000\n",
      "Retrieved 561 records\n",
      "Get field data for object_13\n",
      "Get data from https://api.knack.com/v1/objects/object_13/fields?rows_per_page=1000\n",
      "Retrieved 54 fields\n",
      "Get field data for object_27\n",
      "Get data from https://api.knack.com/v1/objects/object_27/fields?rows_per_page=1000\n",
      "Retrieved 52 fields\n"
     ]
    }
   ],
   "source": [
    "from pprint import pprint as print # pretty printing\n",
    "import knackpy # knack API client\n",
    "\n",
    "\n",
    "auth = {\n",
    "    \"app_id\" : \"5bbcfd7b4ae801302fe650c3\",\n",
    "    \"api_key\" : \"f9debcb0-d0cc-11e8-b6a3-6727e456c7fb\"\n",
    "}\n",
    "\n",
    "# get data\n",
    "kn = knackpy.Knack(\n",
    "    scene=\"scene_514\",\n",
    "    view=\"view_2569\",\n",
    "    ref_obj=[\"object_13\", \"object_27\"],\n",
    "    app_id=auth[\"app_id\"],\n",
    "    api_key=auth[\"api_key\"]\n",
    ")"
   ]
  },
  {
   "cell_type": "code",
   "execution_count": 12,
   "metadata": {
    "scrolled": false
   },
   "outputs": [
    {
     "name": "stdout",
     "output_type": "stream",
     "text": [
      "[{'ATD_LOCATION_ID': '',\n",
      "  'BUS_RIDERSHIP': '',\n",
      "  'BUS_STOPS': '',\n",
      "  'CRASH_HISTORY': '',\n",
      "  'EVAL_STATUS': 'CANCELLED',\n",
      "  'MAJOR_PED_GEN': '',\n",
      "  'REQUEST_STATUS': '',\n",
      "  'SIGNAL_REQUEST': '',\n",
      "  'id': '5bbd029b4c1e902ee1111ad9'},\n",
      " {'ATD_LOCATION_ID': '',\n",
      "  'BUS_RIDERSHIP': '',\n",
      "  'BUS_STOPS': '',\n",
      "  'CRASH_HISTORY': '',\n",
      "  'EVAL_STATUS': 'CANCELLED',\n",
      "  'MAJOR_PED_GEN': '',\n",
      "  'REQUEST_STATUS': '',\n",
      "  'SIGNAL_REQUEST': '',\n",
      "  'id': '5bbd029b4c1e902ee1111ad7'}]\n"
     ]
    }
   ],
   "source": [
    "print(kn.data[0:2])"
   ]
  }
 ],
 "metadata": {
  "kernelspec": {
   "display_name": "Python 3",
   "language": "python",
   "name": "python3"
  },
  "language_info": {
   "codemirror_mode": {
    "name": "ipython",
    "version": 3
   },
   "file_extension": ".py",
   "mimetype": "text/x-python",
   "name": "python",
   "nbconvert_exporter": "python",
   "pygments_lexer": "ipython3",
   "version": "3.7.2"
  }
 },
 "nbformat": 4,
 "nbformat_minor": 2
}
